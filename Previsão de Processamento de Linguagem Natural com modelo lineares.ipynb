{
 "cells": [
  {
   "cell_type": "markdown",
   "metadata": {},
   "source": [
    "# Machine Learning e Processamento de Linguagem Natural (PLN) com modelos lineares"
   ]
  },
  {
   "cell_type": "markdown",
   "metadata": {},
   "source": [
    "<img src=\"/images/nlp.png\" width=\"2000\"/>"
   ]
  },
  {
   "cell_type": "markdown",
   "metadata": {},
   "source": [
    "## Tópicos"
   ]
  },
  {
   "cell_type": "markdown",
   "metadata": {},
   "source": [
    "- Introdução\n",
    "- Estudo de caso\n",
    "- Importando bibliotecas\n",
    "- Importando o conjunto de dados\n",
    "- Preparação do texto\n",
    "- Contando as palavras\n",
    "- Transformando texto em vetor\n",
    "- TF-IDF\n",
    "- Multilabel Classifier\n",
    "- Treinando e testando\n",
    "- Avaliação\n",
    "- Análises das variáveis mais importantes\n",
    "- Tunando hiperparâmetros\n",
    "- Conclusão\n",
    "- Referências"
   ]
  },
  {
   "cell_type": "markdown",
   "metadata": {},
   "source": [
    "## Introdução"
   ]
  },
  {
   "cell_type": "markdown",
   "metadata": {},
   "source": [
    "Neste notebook, apresento o uso de Machine Learning com Regressão Logística e `Processamento de Linguagem Natural (PLN)`, o nosso objetivo é a previsão de tags com base em perguntas, com um conjunto de dados coletados do site Stack Overflow."
   ]
  },
  {
   "cell_type": "markdown",
   "metadata": {},
   "source": [
    "### O que é Processamento de Linguagem Natural?"
   ]
  },
  {
   "cell_type": "markdown",
   "metadata": {},
   "source": [
    "Processamento de Linguagem Natural (PLN) ou *Natural Language Preprocessing (NLP na sigla inglesa)* é a interação do homem com a máquina através da linguagem natural. A linguagem natural é a forma mais comum de nos comunicarmos, que estamos acostumados desde o nascimento. O computador por outro lado, utiliza um linguagem de Programação, seja python, java, entre outros para processarem informações.\n",
    "\n",
    "O **PLN** carrega uma série de **desafios em função da linguagem humana** (natural), pois carrega uma séries de regras e ambiguidades, sem falar do idioma, que também contribui.\n",
    "\n",
    "Dessa forma, o principal desafio é conseguir **desenvolver sistemas digitais** capazes de entender a linguagem humana. Mas isso não vem de hoje e estamos constantementes em contato com essa tecnologia, como por exemplos: Mecanismos de busca, Assistentes virtuais, Análise de sentimento e chatbots.\n",
    "\n",
    "É uma subárea da **ciência da computação, inteligência artificial e da linguística** que estuda os problemas da geração e compreensão automática de línguas humanas naturais. Está em constante ascensão e é uma das **áreas mais promissoras** em inteligência artificial, pois o interesse dessa interação com a máquina está cada vez maior e paralelamente ao big data."
   ]
  },
  {
   "cell_type": "markdown",
   "metadata": {},
   "source": [
    "### O que é Stack Overflow?"
   ]
  },
  {
   "cell_type": "markdown",
   "metadata": {},
   "source": [
    "É um site de perguntas e respostas para profissionais e entusiastas na área de programação de computadores. Foi criado em 2008 por Jeff Atwood e Joel Spolsky como alternativa para os sites mais antigos de perguntas e respostas.\n",
    "\n",
    "O site aceita somente perguntas sobre programação que são fortemente relacionadas com um problema específico, e tanto as perguntas quanto as respostas feitas pelos usuários podem ganhar pontos positivos e negativos, o que recompensa ou pune seus donos com pontos de reputação."
   ]
  },
  {
   "cell_type": "markdown",
   "metadata": {},
   "source": [
    "## Estudo de caso"
   ]
  },
  {
   "cell_type": "markdown",
   "metadata": {},
   "source": [
    "A proposta deste material é utilizar os dados do site Stack Overflow. Esse exercício faz parte de um dos cursos do site Coursera de Processamento de Linguagem Natural, foi utilizado um conjunto de dados com duas colunas, uma com as perguntas de usuários e a outra, que é nossa variável alvo, são as respectivas tags.\n",
    "\n",
    "O **Problema de Negócio** que queremos resolver é `realizar predições das respectivas tags a partir das perguntas, através do aprendizado de máquina com algoritmo supervisionado`."
   ]
  },
  {
   "cell_type": "markdown",
   "metadata": {},
   "source": [
    "## Importando as bibliotecas"
   ]
  },
  {
   "cell_type": "markdown",
   "metadata": {},
   "source": [
    "Para nosso estudo de caso, vamos fazer uso das seguintes bibliotecas:\n",
    "- **Numpy**: um pacote para computação científica.\n",
    "- **Pandas**: uma biblioteca de alta-performance, fácil para manipulação de dataframes e análises de dados.\n",
    "- **seaborn**: para visualizações.\n",
    "- **scikit-learn**: um pacote para ferramentas para aprendizado de máquinas.\n",
    "- **NLTK**: uma plataforma para trabalhar com linguagem natural.\n",
    "- **re**: para operação com expressões regulares.\n",
    "- **Colections**: para contagem de palavras.\n",
    "- **itertools**: para interações eficientes."
   ]
  },
  {
   "cell_type": "code",
   "execution_count": 1,
   "metadata": {},
   "outputs": [
    {
     "name": "stderr",
     "output_type": "stream",
     "text": [
      "[nltk_data] Downloading package stopwords to\n",
      "[nltk_data]     C:\\Users\\carlo\\AppData\\Roaming\\nltk_data...\n",
      "[nltk_data]   Package stopwords is already up-to-date!\n"
     ]
    }
   ],
   "source": [
    "# importando as bibliotecas\n",
    "import nltk\n",
    "from nltk.corpus import stopwords\n",
    "\n",
    "import pandas as pd\n",
    "import numpy as np\n",
    "import seaborn as sns\n",
    "import matplotlib.pyplot as plt\n",
    "\n",
    "from ast import literal_eval\n",
    "import re\n",
    "from collections import Counter\n",
    "from itertools import chain\n",
    "\n",
    "from sklearn.feature_extraction.text import CountVectorizer\n",
    "from sklearn.feature_extraction.text import TfidfVectorizer\n",
    "from sklearn.preprocessing import MultiLabelBinarizer\n",
    "from sklearn.multiclass import OneVsRestClassifier\n",
    "from sklearn.linear_model import LogisticRegression, RidgeClassifier\n",
    "from sklearn.metrics import accuracy_score\n",
    "from sklearn.metrics import f1_score\n",
    "from sklearn.metrics import roc_auc_score \n",
    "from sklearn.metrics import average_precision_score\n",
    "from sklearn.metrics import recall_score\n",
    "from metrics import roc_auc\n",
    "\n",
    "nltk.download('stopwords') # caso a lista esteja desatualizada\n",
    "%matplotlib inline"
   ]
  },
  {
   "cell_type": "markdown",
   "metadata": {},
   "source": [
    "Neste projeto, contaremos com 2 conjuntos de dados: **treino** e **validação**, no qual é composto por `títulos` e suas `tags` correspondentes (somente essas duas colunas)."
   ]
  },
  {
   "cell_type": "markdown",
   "metadata": {},
   "source": [
    "## Importando o conjunto de dados"
   ]
  },
  {
   "cell_type": "markdown",
   "metadata": {},
   "source": [
    "Vamos iniciar criando um função para importação dos dados. Nessa importação as *tags* são importadas entre aspas simples, então utilizaremos a função `literal_eval` no qual converte a string em um objeto, para suprimirmos as aspas."
   ]
  },
  {
   "cell_type": "code",
   "execution_count": 2,
   "metadata": {},
   "outputs": [],
   "source": [
    "# criando a função\n",
    "def read_data(filename):\n",
    "    \n",
    "    # importando o arquivo\n",
    "    data = pd.read_csv(filename, sep='\\t')\n",
    "    \n",
    "    # removendo as aspas que são importadas juntas\n",
    "    data['tags'] = data['tags'].apply(literal_eval)\n",
    "    \n",
    "    # retornando o arquivo\n",
    "    return data"
   ]
  },
  {
   "cell_type": "markdown",
   "metadata": {},
   "source": [
    "Agora vamos importar os dois arquivos."
   ]
  },
  {
   "cell_type": "code",
   "execution_count": 3,
   "metadata": {},
   "outputs": [],
   "source": [
    "# importando os dados de treino\n",
    "train = read_data('data/train.tsv')\n",
    "\n",
    "# importando os dados de validação\n",
    "validation = read_data('data/validation.tsv')"
   ]
  },
  {
   "cell_type": "markdown",
   "metadata": {},
   "source": [
    "Vamos dar uma olhada nas primeiras linhas de cada conjunto com o método `head()`."
   ]
  },
  {
   "cell_type": "code",
   "execution_count": 4,
   "metadata": {},
   "outputs": [
    {
     "data": {
      "text/html": [
       "<div>\n",
       "<style scoped>\n",
       "    .dataframe tbody tr th:only-of-type {\n",
       "        vertical-align: middle;\n",
       "    }\n",
       "\n",
       "    .dataframe tbody tr th {\n",
       "        vertical-align: top;\n",
       "    }\n",
       "\n",
       "    .dataframe thead th {\n",
       "        text-align: right;\n",
       "    }\n",
       "</style>\n",
       "<table border=\"1\" class=\"dataframe\">\n",
       "  <thead>\n",
       "    <tr style=\"text-align: right;\">\n",
       "      <th></th>\n",
       "      <th>title</th>\n",
       "      <th>tags</th>\n",
       "    </tr>\n",
       "  </thead>\n",
       "  <tbody>\n",
       "    <tr>\n",
       "      <th>0</th>\n",
       "      <td>How to draw a stacked dotplot in R?</td>\n",
       "      <td>[r]</td>\n",
       "    </tr>\n",
       "    <tr>\n",
       "      <th>1</th>\n",
       "      <td>mysql select all records where a datetime fiel...</td>\n",
       "      <td>[php, mysql]</td>\n",
       "    </tr>\n",
       "    <tr>\n",
       "      <th>2</th>\n",
       "      <td>How to terminate windows phone 8.1 app</td>\n",
       "      <td>[c#]</td>\n",
       "    </tr>\n",
       "    <tr>\n",
       "      <th>3</th>\n",
       "      <td>get current time in a specific country via jquery</td>\n",
       "      <td>[javascript, jquery]</td>\n",
       "    </tr>\n",
       "    <tr>\n",
       "      <th>4</th>\n",
       "      <td>Configuring Tomcat to Use SSL</td>\n",
       "      <td>[java]</td>\n",
       "    </tr>\n",
       "  </tbody>\n",
       "</table>\n",
       "</div>"
      ],
      "text/plain": [
       "                                               title                  tags\n",
       "0                How to draw a stacked dotplot in R?                   [r]\n",
       "1  mysql select all records where a datetime fiel...          [php, mysql]\n",
       "2             How to terminate windows phone 8.1 app                  [c#]\n",
       "3  get current time in a specific country via jquery  [javascript, jquery]\n",
       "4                      Configuring Tomcat to Use SSL                [java]"
      ]
     },
     "execution_count": 4,
     "metadata": {},
     "output_type": "execute_result"
    }
   ],
   "source": [
    "# visualizando as primeiras 5 linhas do conjunto de treino\n",
    "train.head()"
   ]
  },
  {
   "cell_type": "code",
   "execution_count": 5,
   "metadata": {},
   "outputs": [
    {
     "data": {
      "text/html": [
       "<div>\n",
       "<style scoped>\n",
       "    .dataframe tbody tr th:only-of-type {\n",
       "        vertical-align: middle;\n",
       "    }\n",
       "\n",
       "    .dataframe tbody tr th {\n",
       "        vertical-align: top;\n",
       "    }\n",
       "\n",
       "    .dataframe thead th {\n",
       "        text-align: right;\n",
       "    }\n",
       "</style>\n",
       "<table border=\"1\" class=\"dataframe\">\n",
       "  <thead>\n",
       "    <tr style=\"text-align: right;\">\n",
       "      <th></th>\n",
       "      <th>title</th>\n",
       "      <th>tags</th>\n",
       "    </tr>\n",
       "  </thead>\n",
       "  <tbody>\n",
       "    <tr>\n",
       "      <th>0</th>\n",
       "      <td>Why odbc_exec always fail?</td>\n",
       "      <td>[php, sql]</td>\n",
       "    </tr>\n",
       "    <tr>\n",
       "      <th>1</th>\n",
       "      <td>Access a base classes variable from within a c...</td>\n",
       "      <td>[javascript]</td>\n",
       "    </tr>\n",
       "    <tr>\n",
       "      <th>2</th>\n",
       "      <td>Content-Type \"application/json\" not required i...</td>\n",
       "      <td>[ruby-on-rails, ruby]</td>\n",
       "    </tr>\n",
       "    <tr>\n",
       "      <th>3</th>\n",
       "      <td>Sessions in Sinatra: Used to Pass Variable</td>\n",
       "      <td>[ruby, session]</td>\n",
       "    </tr>\n",
       "    <tr>\n",
       "      <th>4</th>\n",
       "      <td>Getting error - type \"json\" does not exist - i...</td>\n",
       "      <td>[ruby-on-rails, ruby, json]</td>\n",
       "    </tr>\n",
       "  </tbody>\n",
       "</table>\n",
       "</div>"
      ],
      "text/plain": [
       "                                               title  \\\n",
       "0                         Why odbc_exec always fail?   \n",
       "1  Access a base classes variable from within a c...   \n",
       "2  Content-Type \"application/json\" not required i...   \n",
       "3         Sessions in Sinatra: Used to Pass Variable   \n",
       "4  Getting error - type \"json\" does not exist - i...   \n",
       "\n",
       "                          tags  \n",
       "0                   [php, sql]  \n",
       "1                 [javascript]  \n",
       "2        [ruby-on-rails, ruby]  \n",
       "3              [ruby, session]  \n",
       "4  [ruby-on-rails, ruby, json]  "
      ]
     },
     "execution_count": 5,
     "metadata": {},
     "output_type": "execute_result"
    }
   ],
   "source": [
    "# visualizando as primeiras 5 linhas do conjunto de validação\n",
    "validation.head()"
   ]
  },
  {
   "cell_type": "markdown",
   "metadata": {},
   "source": [
    "Podemos notar que temos aspas, dois pontos, traços na coluna **title** e a coluna **tags** não tem uma quantidade fixa de palavras, além de cada termo está em formato de lista.\n",
    "\n",
    "Vamos agora dar uma olhada na dimensão desses dados."
   ]
  },
  {
   "cell_type": "code",
   "execution_count": 6,
   "metadata": {},
   "outputs": [
    {
     "name": "stdout",
     "output_type": "stream",
     "text": [
      "Os dados de TREINO possui:\n",
      "100000 linhas\n",
      "2 colunas\n",
      "\n",
      "Os dados de VALIDAÇÃO possui:\n",
      "30000 linhas\n",
      "2 colunas\n"
     ]
    }
   ],
   "source": [
    "# visualizando as dimensões dos dados de treino\n",
    "print(f\"Os dados de TREINO possui:\")\n",
    "print(f\"{train.shape[0]} linhas\")\n",
    "print(f\"{train.shape[1]} colunas\\n\")\n",
    "\n",
    "# visualizando as dimensões dos dados de treino\n",
    "print(f\"Os dados de VALIDAÇÃO possui:\")\n",
    "print(f\"{validation.shape[0]} linhas\")\n",
    "print(f\"{validation.shape[1]} colunas\")"
   ]
  },
  {
   "cell_type": "markdown",
   "metadata": {},
   "source": [
    "Observamos que o conjunto de validação corresponde à 30% do conjunto de treino, um número bom para utilizarmos como validação do nosso modelo.\n",
    "\n",
    "Vamos então, separar nossa variável `preditora` (coluna **title**) da nossa variável `alvo` (coluna **tags**), em ambos os conjuntos, utilizaremos o método `values`."
   ]
  },
  {
   "cell_type": "code",
   "execution_count": 7,
   "metadata": {},
   "outputs": [],
   "source": [
    "# separando os dados de treino\n",
    "X_train, y_train = train['title'].values, train['tags'].values\n",
    "\n",
    "# separando os dados de validação\n",
    "X_val, y_val = validation['title'].values, validation['tags'].values"
   ]
  },
  {
   "cell_type": "markdown",
   "metadata": {},
   "source": [
    "Os arquivos viraram uma lista, no qual cada linha se tornou um elemento dessa lista, vamos dar uma olhada para entendermos melhor no *X_train*, as outras seguem da mesma forma."
   ]
  },
  {
   "cell_type": "code",
   "execution_count": 8,
   "metadata": {},
   "outputs": [
    {
     "data": {
      "text/plain": [
       "array(['How to draw a stacked dotplot in R?',\n",
       "       'mysql select all records where a datetime field is less than a specified value',\n",
       "       'How to terminate windows phone 8.1 app', ...,\n",
       "       'Python Pandas Series of Datetimes to Seconds Since the Epoch',\n",
       "       'jqGrid issue grouping - Duplicate rows get appended every time sort is changed',\n",
       "       'Create a List of primitive int?'], dtype=object)"
      ]
     },
     "execution_count": 8,
     "metadata": {},
     "output_type": "execute_result"
    }
   ],
   "source": [
    "# visualizando X_train\n",
    "X_train"
   ]
  },
  {
   "cell_type": "markdown",
   "metadata": {},
   "source": [
    "Em geral, quando trabalhamos com Processamento de Linguagem Natural, os **dados são desestruturados**, como podemos notar também nesse documento. **Devemos analisar com cautela** e escolher a melhor forma que não irá descaracterizar o sentido ou a palavra do que estamos tratando.\n",
    "\n",
    "Vamos criar uma função para tratar nossos dados, removendo **símbolos** e **caracteres especiais** e também as **stopwords**, que são palavras que aparecem muitas vezes mas que não agregam valor ao nosso objetivo e se mantivermos podem causar ruidos e não termos uma boa precisão nas previsões."
   ]
  },
  {
   "cell_type": "markdown",
   "metadata": {},
   "source": [
    "## Preparação do texto"
   ]
  },
  {
   "cell_type": "markdown",
   "metadata": {},
   "source": [
    "Nesta etapa vamos começar a \"limpar\" nosso texto, removendo tudo que não tem valor para nosso objetivo.\n",
    "\n",
    "Vamos iniciar criando uma função para isso, fazendo uso do pacote `re`, *Regular Expression Operations* e com ela podemos utilizar dos recursos do REGEX.\n",
    "\n",
    "Faremos uso do método *compile* (`re.compile`), dentro de um objeto, para compilar a *expressão regular* que queremos, com isso quando a função encontrar essa expressão no texto, ele a removerá. Podemos utilizar para remover caracteres especiais, números, entre outros padrões existentes. Depois usaremos esse objeto como uma função com o método `sub`, passando como parâmetros o que irá substituir e o conjunto de dados."
   ]
  },
  {
   "cell_type": "code",
   "execution_count": 9,
   "metadata": {},
   "outputs": [],
   "source": [
    "# criando os objetos com as expressões regulares\n",
    "remove_espec_carac = re.compile('[/(){}\\[\\]\\|@,;]')\n",
    "remove_symb = re.compile('[^0-9a-z #+_]')\n",
    "\n",
    "# criando um objeto para remoção de stopwords no idioma ingles\n",
    "stopwords = stopwords.words('english')\n",
    "\n",
    "# criando a função\n",
    "def text_prepare(text):\n",
    "    \n",
    "    # normalizando nosso texto em letras minúsculas, assim facilita nossa preparação\n",
    "    text = text.lower()\n",
    "    \n",
    "    # substituindo caracteres especiais por espaços em branco\n",
    "    text = remove_espec_carac.sub(' ', text)\n",
    "    \n",
    "    # retornando apenas letras e números\n",
    "    text = remove_symb.sub('', text)\n",
    "    \n",
    "    # removendo as stopwords\n",
    "    text = ' '.join(word for word in text.split() if word not in stopwords)\n",
    "    \n",
    "    # retornando o texto modificado\n",
    "    return text"
   ]
  },
  {
   "cell_type": "markdown",
   "metadata": {},
   "source": [
    "Para verificarmos se nossa função de preparação está funcionando, vamos criar um pequeno texto com as informações que queremos remover e analisar."
   ]
  },
  {
   "cell_type": "code",
   "execution_count": 10,
   "metadata": {},
   "outputs": [],
   "source": [
    "# Criando a função\n",
    "def test_text_prepare():\n",
    "    \n",
    "    # definindo os exemplos\n",
    "    examples = [\"SQL Server - any equivalent of Excel's CHOOSE function?\",\n",
    "                \"How to free c++ memory vector<int> * arr?\"]\n",
    "    \n",
    "    # inserindo a resposta correta\n",
    "    answers = [\"sql server equivalent excels choose function\", \n",
    "               \"free c++ memory vectorint arr\"]\n",
    "    \n",
    "    # Aplicando um loop e comparando a limpeza\n",
    "    for ex, ans in zip(examples, answers):\n",
    "        \n",
    "    # condições para retornar se o resultado foi aprovado ou reprovado\n",
    "        if text_prepare(ex) != ans:\n",
    "            return \"Resposta incorreta para: '%s'\" % ex\n",
    "    return 'Testes básicos aprovados.'"
   ]
  },
  {
   "cell_type": "code",
   "execution_count": 11,
   "metadata": {},
   "outputs": [
    {
     "name": "stdout",
     "output_type": "stream",
     "text": [
      "Testes básicos aprovados.\n"
     ]
    }
   ],
   "source": [
    "# rodando a função de teste\n",
    "print(test_text_prepare())"
   ]
  },
  {
   "cell_type": "markdown",
   "metadata": {},
   "source": [
    "Nossa função passou no teste! Agora podemos pré-processar os *titles* usando a função **text_prepare** para os conjuntos de dados de treino e validação."
   ]
  },
  {
   "cell_type": "code",
   "execution_count": 12,
   "metadata": {},
   "outputs": [],
   "source": [
    "# aplicando a função nos dados de treino\n",
    "X_train = [text_prepare(x) for x in X_train]\n",
    "\n",
    "# aplicando a função nos dados de validação\n",
    "X_val = [text_prepare(x) for x in X_val]"
   ]
  },
  {
   "cell_type": "markdown",
   "metadata": {},
   "source": [
    "Vamos dar uma olhada nas primeiras linhas, mas que na verdade são elementos porque estão contidos em uma lista e não mais como um dataframe."
   ]
  },
  {
   "cell_type": "code",
   "execution_count": 13,
   "metadata": {},
   "outputs": [
    {
     "data": {
      "text/plain": [
       "['draw stacked dotplot r',\n",
       " 'mysql select records datetime field less specified value',\n",
       " 'terminate windows phone 81 app',\n",
       " 'get current time specific country via jquery',\n",
       " 'configuring tomcat use ssl',\n",
       " 'awesome nested set plugin add new children tree various levels',\n",
       " 'create map json response ruby rails 3',\n",
       " 'rspec test method called',\n",
       " 'springboot catalina lifecycle exception',\n",
       " 'import data excel mysql database using php']"
      ]
     },
     "execution_count": 13,
     "metadata": {},
     "output_type": "execute_result"
    }
   ],
   "source": [
    "# visualizando os 10 primeiros elementos\n",
    "X_train[:10]"
   ]
  },
  {
   "cell_type": "markdown",
   "metadata": {},
   "source": [
    "## Contando as palavras"
   ]
  },
  {
   "cell_type": "markdown",
   "metadata": {},
   "source": [
    "Seguindo aqui com nosso texto \"limpo\", podemos calcular as quantidades de ocorrência de cada palavra nos conjuntos de treino. Vamos utilizar a função `Counter` do pacote `Collections` para fazer contagem e a função `chain` do pacote `itertools` que nos fornece um *loop* que irá iterar as palavras com suas respectivas frequencias."
   ]
  },
  {
   "cell_type": "code",
   "execution_count": 14,
   "metadata": {},
   "outputs": [],
   "source": [
    "# realizando a contagem e inserindo em um dicionário\n",
    "words_counts = Counter(chain.from_iterable([i.split(\" \") for i in X_train]))\n",
    "\n",
    "# ordenando do maior para o menor\n",
    "words_freq = sorted(words_counts.items(), key=lambda x: x[1], reverse=True)"
   ]
  },
  {
   "cell_type": "markdown",
   "metadata": {},
   "source": [
    "Vamos dar uma olhada no **TOP10**, ou seja, as 10 palavras que mais apareceram."
   ]
  },
  {
   "cell_type": "code",
   "execution_count": 15,
   "metadata": {},
   "outputs": [
    {
     "data": {
      "text/plain": [
       "[('using', 8278),\n",
       " ('php', 5614),\n",
       " ('java', 5501),\n",
       " ('file', 5055),\n",
       " ('javascript', 4746),\n",
       " ('error', 4388),\n",
       " ('get', 4301),\n",
       " ('c#', 4188),\n",
       " ('python', 4073),\n",
       " ('string', 3652)]"
      ]
     },
     "execution_count": 15,
     "metadata": {},
     "output_type": "execute_result"
    }
   ],
   "source": [
    "words_freq[:10]"
   ]
  },
  {
   "cell_type": "markdown",
   "metadata": {},
   "source": [
    "Vamos visualizar em forma de gráfico, pois ficará mais visível e intuitivo, utilizando um `barplot` para visualizar.\n",
    "\n",
    "Mas teremos que mudar o formato antes, pois como o resultado é uma tupla, vamos converter em um dicionário, separar e deixar as palavras em uma lista, assim como as ocorrências, separar e colocar também em outra lista."
   ]
  },
  {
   "cell_type": "code",
   "execution_count": 16,
   "metadata": {},
   "outputs": [
    {
     "data": {
      "image/png": "[encoded data removed]",
      "text/plain": [
       "<Figure size 720x432 with 1 Axes>"
      ]
     },
     "metadata": {
      "needs_background": "light"
     },
     "output_type": "display_data"
    }
   ],
   "source": [
    "# colocando as palavras em um objeto do tipo lista\n",
    "words_list = list(dict(words_freq[:10]).keys())\n",
    "\n",
    "# colocando as ocorrências em um objeto do tipo lista\n",
    "occur_list = list(dict(words_freq[:10]).values())\n",
    "\n",
    "# definindo a área de plotagem\n",
    "plt.figure(figsize=(10,6))\n",
    "\n",
    "# criando o gráfico\n",
    "ax = sns.barplot(x = words_list, y = occur_list)\n",
    "\n",
    "# inserindo o título\n",
    "ax.set_title('TOP10 palavras que mais ocorreram')\n",
    "\n",
    "# rotacionando os rótulos do eixo x\n",
    "plt.xticks(rotation=30);"
   ]
  },
  {
   "cell_type": "markdown",
   "metadata": {},
   "source": [
    "A palavra *using* é a que mais aparece, acredito que seja em função da maioria das perguntas serem sobre \"como funciona\" algo, em seguida entram algumas linguagens de programação, assim como buscas por erros.\n",
    "\n",
    "Da mesma forma vamos fazer todo esse processo de contagem para as tags."
   ]
  },
  {
   "cell_type": "code",
   "execution_count": 17,
   "metadata": {},
   "outputs": [],
   "source": [
    "# realizando a contagem e inserindo em um dicionário\n",
    "tags_counts = Counter(chain.from_iterable([i for i in y_train]))\n",
    "\n",
    "# ordenando do maior para o menor\n",
    "tags_freq = sorted(tags_counts.items(), key=lambda x: x[1], reverse=True)"
   ]
  },
  {
   "cell_type": "markdown",
   "metadata": {},
   "source": [
    "Vamos também dar uma olhada no **TOP 10**, as 10 tags que mais apareceram."
   ]
  },
  {
   "cell_type": "code",
   "execution_count": 18,
   "metadata": {},
   "outputs": [
    {
     "data": {
      "text/plain": [
       "[('javascript', 19078),\n",
       " ('c#', 19077),\n",
       " ('java', 18661),\n",
       " ('php', 13907),\n",
       " ('python', 8940),\n",
       " ('jquery', 7510),\n",
       " ('c++', 6469),\n",
       " ('html', 4668),\n",
       " ('objective-c', 4338),\n",
       " ('asp.net', 3939)]"
      ]
     },
     "execution_count": 18,
     "metadata": {},
     "output_type": "execute_result"
    }
   ],
   "source": [
    "tags_freq[:10]"
   ]
  },
  {
   "cell_type": "markdown",
   "metadata": {},
   "source": [
    "Visualizando graficamente as **TOP 10** tags."
   ]
  },
  {
   "cell_type": "code",
   "execution_count": 19,
   "metadata": {},
   "outputs": [
    {
     "data": {
      "image/png": "[encoded data removed]",
      "text/plain": [
       "<Figure size 720x432 with 1 Axes>"
      ]
     },
     "metadata": {
      "needs_background": "light"
     },
     "output_type": "display_data"
    }
   ],
   "source": [
    "# colocando as palavras em um objeto do tipo lista\n",
    "tags_list = list(dict(tags_freq[:10]).keys())\n",
    "\n",
    "# colocando as ocorrências em um objeto do tipo lista\n",
    "occur_list = list(dict(tags_freq[:10]).values())\n",
    "\n",
    "# definindo a área de plotagem\n",
    "plt.figure(figsize=(10,6))\n",
    "\n",
    "# criando o gráfico\n",
    "ax = sns.barplot(x = tags_list, y = occur_list)\n",
    "\n",
    "# inserindo o título\n",
    "ax.set_title('TOP10 tags que mais ocorreram')\n",
    "\n",
    "# rotacionando os rótulos do eixo x\n",
    "plt.xticks(rotation=30);"
   ]
  },
  {
   "cell_type": "markdown",
   "metadata": {},
   "source": [
    "As tags que mais aparecem são linguagens de Programação, no qual são relacionadas com as perguntas, sobre o *uso* ou *erros* contidos nas perguntas, por exemplo."
   ]
  },
  {
   "cell_type": "markdown",
   "metadata": {},
   "source": [
    "## Transformando texto em vetor"
   ]
  },
  {
   "cell_type": "markdown",
   "metadata": {},
   "source": [
    "Algoritmos de Machine Learning trabalham com **dados numéricos** e nós não podemos usar os textos da forma que conhecemos. Entretanto, devemos converter estes textos em **vetores numéricos**.\n",
    "\n",
    "É denominado **vetorização** o processo geral de converter a coleção de textos em **vetores numéricos**. A estratégia de *tokenizar* (separar textos ou palavras em \"blocos\"), *contar* e *normalizar* (como já fizemos anteriormente) é chamado de representação **Bag of Words (BOW)**, ou na tradução literal **bolsa de palavras**, no qual são descritos pelas ocorrências das palavras enquanto são ignoradas suas posições relativas em todos os textos. Segue exemplo abaixo de como fica a estrutura, com a frequencia absoluta de cada palavra:\n",
    "\n",
    "<img src=\"images/bag-of-word.png\"/><center>*fig.1 - Imagem adaptada de text-analytics-beginners-nltk bootcamp*</center>\n",
    "<br>\n",
    "\n",
    "Um uso comum da Vetorização é a partir do `CountVectorizer` do `sklearn`, no qual vamos demonstrar em seguida.\n",
    "\n",
    "Vamos *vetorizar* nossos dados, limitando à 5000 palavras, que na matriz serão apresentadas como 5000 colunas e daí entramos em um outro conceito que é de **esparsidade** e quanto mais colunas, mais poder computacional precisamos.\n",
    "\n",
    "**Matriz esparsa** ou *Sparcity Matrix* são matrizes com muitos zeros, podemos visualizar na figura acima (fig.1), os espaços em branco quando a palavra não é encontrada em determinado documento, pois todos os documentos usam um conjunto muito pequenos de palavras e isso resulta nesse tipo de matriz."
   ]
  },
  {
   "cell_type": "code",
   "execution_count": 20,
   "metadata": {},
   "outputs": [
    {
     "name": "stdout",
     "output_type": "stream",
     "text": [
      "X_train shape: (100000, 5000)\n",
      "X_val shape:   (30000, 5000)\n"
     ]
    }
   ],
   "source": [
    "# definindo um limite\n",
    "max_features = 5000\n",
    "\n",
    "# instanciando o vetorizador\n",
    "vectorizer = CountVectorizer(max_features = max_features)\n",
    "\n",
    "# aplicando a transformação\n",
    "X_train_bow = vectorizer.fit_transform(X_train)\n",
    "X_val_bow = vectorizer.transform(X_val)\n",
    "\n",
    "# checando o shape\n",
    "print('X_train shape:', X_train_bow.shape)\n",
    "print('X_val shape:  ', X_val_bow.shape)"
   ]
  },
  {
   "cell_type": "markdown",
   "metadata": {},
   "source": [
    "Podemos certificar, como foi dito, que a construção resultou em uma matriz com 5000 colunas, que nós limitamos, em ambos os conjuntos, treino e validação."
   ]
  },
  {
   "cell_type": "markdown",
   "metadata": {},
   "source": [
    "## TF-IDF"
   ]
  },
  {
   "cell_type": "markdown",
   "metadata": {},
   "source": [
    "Continuando, uma abordagem que se estende à estrutura da *Bag of Words* é capturar as **frequencias relativas** das palavras, pois ajuda a penalizar as palavras muito frequentes e otimiza o uso das melhores.\n",
    "\n",
    "Nos textos, podemos nos deparar com uma quantidade de **palavras muito frequentes** que acabam carregando informações não muito relevantes e se treinarmos um modelo diretamente dessa forma, essas palavras podem **influenciar o modelo** e as palavras mais interessantes, porém menos frequentes não apareceriam. Segue exemplo abaixo:\n",
    "\n",
    "<img src=\"images/tf-idf.png\"/><center>*fig.2 - Imagem adaptada de text-analytics-beginners-nltk bootcamp*</center>\n",
    "<br>\n",
    "\n",
    "Então podemos fazer uso do **TF-IDF** que significa:<br>\n",
    "**TF**: *term frequency* ou termos frequentes<br>\n",
    "**IDF**: *inverse document-frequency* ou frequencia de documento inversa\n",
    "\n",
    "Basicamente, a conta realizada é: *os termos frequentes nos documentos, ou seja, o número de vezes que eles ocorrem em um dado documento, é multiplicado com a componente inversa da frequencia* `tf-idf(t,d) = tf(t,d) x idf(t)`.\n",
    "\n",
    "Vamos primeiramente instanciar o modelo para treinar o vetorizador a partir de alguns parâmetros, em seguida aplicaremos o modelo instanciado, treinando e transformando com os dados de treino e para os dados de validação somente a transformação, não deverá treinar novamente com esses dados. Em seguida extrairemos o vocabulário e por fim inverteremos a ordem do vocabulário (pois vamos utilizar mais a frente nessa estrutura)."
   ]
  },
  {
   "cell_type": "code",
   "execution_count": 21,
   "metadata": {},
   "outputs": [],
   "source": [
    "# instanciando o tfidf\n",
    "tfidf_vec = TfidfVectorizer(token_pattern = '(\\S+)', min_df = 5, max_df = .9, ngram_range = (1,2))\n",
    "\n",
    "# aplicando o modelo com fit_transform aos dados de treino\n",
    "X_train_tfidf = tfidf_vec.fit_transform(X_train)\n",
    "\n",
    "# aplicando o modelo com transform aos dados de validação\n",
    "X_val_tfidf = tfidf_vec.transform(X_val)\n",
    "\n",
    "# coletando o palavras\n",
    "tfidf_vocab = tfidf_vec.vocabulary_\n",
    "\n",
    "# invertendo o dicionário para termos a quantidade como chaves\n",
    "tfidf_reversed_vocab = {i:word for word,i in tfidf_vocab.items()}"
   ]
  },
  {
   "cell_type": "markdown",
   "metadata": {},
   "source": [
    "## Multilabel Classifier"
   ]
  },
  {
   "cell_type": "markdown",
   "metadata": {},
   "source": [
    "Chegamos o momento de treinarmos nosso modelo para fazer previsões, após deixarmos nossos conjuntos nas formas necessárias.\n",
    "\n",
    "Para modelar essa predição, vamos converter a nossa variável alvo em **binário**, ou seja, a previsão será 0 e 1 e para isso vamos utilizar o algoritmo `MultiLabelBinarizer` do `sklearn`.\n",
    "\n",
    "O transformador desse classificador converte uma lista de conjuntos ou tuplas em uma matriz binária (amostras x classes) indicando a presença de um rótulo de classe."
   ]
  },
  {
   "cell_type": "code",
   "execution_count": 22,
   "metadata": {},
   "outputs": [],
   "source": [
    "# instanciando o modelo\n",
    "mlb = MultiLabelBinarizer(classes = sorted(tags_counts.keys()))\n",
    "\n",
    "# convertendo rótulos de treino com fit_transform\n",
    "y_train = mlb.fit_transform(y_train)\n",
    "\n",
    "# transformando dados de validação com fit_transform\n",
    "y_val = mlb.fit_transform(y_val)"
   ]
  },
  {
   "cell_type": "markdown",
   "metadata": {},
   "source": [
    "Vamos conferir o resultado e a forma resultante nos 3 primeiros elementos."
   ]
  },
  {
   "cell_type": "code",
   "execution_count": 23,
   "metadata": {},
   "outputs": [
    {
     "data": {
      "text/plain": [
       "array([[0, 0, 0, 0, 0, 0, 0, 0, 0, 0, 0, 0, 0, 0, 0, 0, 0, 0, 0, 0, 0, 0,\n",
       "        0, 0, 0, 0, 0, 0, 0, 0, 0, 0, 0, 0, 0, 0, 0, 0, 0, 0, 0, 0, 0, 0,\n",
       "        0, 0, 0, 0, 0, 0, 0, 0, 0, 0, 0, 0, 0, 0, 0, 0, 0, 0, 0, 0, 0, 0,\n",
       "        1, 0, 0, 0, 0, 0, 0, 0, 0, 0, 0, 0, 0, 0, 0, 0, 0, 0, 0, 0, 0, 0,\n",
       "        0, 0, 0, 0, 0, 0, 0, 0, 0, 0, 0, 0],\n",
       "       [0, 0, 0, 0, 0, 0, 0, 0, 0, 0, 0, 0, 0, 0, 0, 0, 0, 0, 0, 0, 0, 0,\n",
       "        0, 0, 0, 0, 0, 0, 0, 0, 0, 0, 0, 0, 0, 0, 0, 0, 0, 0, 0, 0, 0, 0,\n",
       "        0, 0, 0, 0, 0, 0, 1, 0, 0, 0, 0, 0, 0, 0, 0, 0, 1, 0, 0, 0, 0, 0,\n",
       "        0, 0, 0, 0, 0, 0, 0, 0, 0, 0, 0, 0, 0, 0, 0, 0, 0, 0, 0, 0, 0, 0,\n",
       "        0, 0, 0, 0, 0, 0, 0, 0, 0, 0, 0, 0],\n",
       "       [0, 0, 0, 0, 0, 0, 0, 0, 0, 0, 1, 0, 0, 0, 0, 0, 0, 0, 0, 0, 0, 0,\n",
       "        0, 0, 0, 0, 0, 0, 0, 0, 0, 0, 0, 0, 0, 0, 0, 0, 0, 0, 0, 0, 0, 0,\n",
       "        0, 0, 0, 0, 0, 0, 0, 0, 0, 0, 0, 0, 0, 0, 0, 0, 0, 0, 0, 0, 0, 0,\n",
       "        0, 0, 0, 0, 0, 0, 0, 0, 0, 0, 0, 0, 0, 0, 0, 0, 0, 0, 0, 0, 0, 0,\n",
       "        0, 0, 0, 0, 0, 0, 0, 0, 0, 0, 0, 0]])"
      ]
     },
     "execution_count": 23,
     "metadata": {},
     "output_type": "execute_result"
    }
   ],
   "source": [
    "# checando os 3 primeiros elementos das tags de treino\n",
    "y_train[:3]"
   ]
  },
  {
   "cell_type": "code",
   "execution_count": 24,
   "metadata": {},
   "outputs": [
    {
     "data": {
      "text/plain": [
       "array([[0, 0, 0, 0, 0, 0, 0, 0, 0, 0, 0, 0, 0, 0, 0, 0, 0, 0, 0, 0, 0, 0,\n",
       "        0, 0, 0, 0, 0, 0, 0, 0, 0, 0, 0, 0, 0, 0, 0, 0, 0, 0, 0, 0, 0, 0,\n",
       "        0, 0, 0, 0, 0, 0, 0, 0, 0, 0, 0, 0, 0, 0, 0, 0, 1, 0, 0, 0, 0, 0,\n",
       "        0, 0, 0, 0, 0, 0, 0, 0, 0, 0, 0, 0, 0, 1, 0, 0, 0, 0, 0, 0, 0, 0,\n",
       "        0, 0, 0, 0, 0, 0, 0, 0, 0, 0, 0, 0],\n",
       "       [0, 0, 0, 0, 0, 0, 0, 0, 0, 0, 0, 0, 0, 0, 0, 0, 0, 0, 0, 0, 0, 0,\n",
       "        0, 0, 0, 0, 0, 0, 0, 0, 0, 0, 0, 0, 0, 0, 0, 0, 1, 0, 0, 0, 0, 0,\n",
       "        0, 0, 0, 0, 0, 0, 0, 0, 0, 0, 0, 0, 0, 0, 0, 0, 0, 0, 0, 0, 0, 0,\n",
       "        0, 0, 0, 0, 0, 0, 0, 0, 0, 0, 0, 0, 0, 0, 0, 0, 0, 0, 0, 0, 0, 0,\n",
       "        0, 0, 0, 0, 0, 0, 0, 0, 0, 0, 0, 0],\n",
       "       [0, 0, 0, 0, 0, 0, 0, 0, 0, 0, 0, 0, 0, 0, 0, 0, 0, 0, 0, 0, 0, 0,\n",
       "        0, 0, 0, 0, 0, 0, 0, 0, 0, 0, 0, 0, 0, 0, 0, 0, 0, 0, 0, 0, 0, 0,\n",
       "        0, 0, 0, 0, 0, 0, 0, 0, 0, 0, 0, 0, 0, 0, 0, 0, 0, 0, 0, 0, 0, 0,\n",
       "        0, 0, 0, 1, 1, 0, 0, 0, 0, 0, 0, 0, 0, 0, 0, 0, 0, 0, 0, 0, 0, 0,\n",
       "        0, 0, 0, 0, 0, 0, 0, 0, 0, 0, 0, 0]])"
      ]
     },
     "execution_count": 24,
     "metadata": {},
     "output_type": "execute_result"
    }
   ],
   "source": [
    "# checando os 3 primeiros elementos das tags de validação\n",
    "y_val[:3]"
   ]
  },
  {
   "cell_type": "markdown",
   "metadata": {},
   "source": [
    "Podemos também checar as classes que foram binarizadas."
   ]
  },
  {
   "cell_type": "code",
   "execution_count": 25,
   "metadata": {},
   "outputs": [
    {
     "data": {
      "text/plain": [
       "array(['.net', 'ajax', 'algorithm', 'android', 'angularjs', 'apache',\n",
       "       'arrays', 'asp.net', 'asp.net-mvc', 'c', 'c#', 'c++', 'class',\n",
       "       'cocoa-touch', 'codeigniter', 'css', 'csv', 'database', 'date',\n",
       "       'datetime', 'django', 'dom', 'eclipse', 'entity-framework',\n",
       "       'excel', 'facebook', 'file', 'forms', 'function', 'generics',\n",
       "       'google-maps', 'hibernate', 'html', 'html5', 'image', 'ios',\n",
       "       'iphone', 'java', 'javascript', 'jquery', 'json', 'jsp', 'laravel',\n",
       "       'linq', 'linux', 'list', 'loops', 'maven', 'mongodb',\n",
       "       'multithreading', 'mysql', 'node.js', 'numpy', 'objective-c',\n",
       "       'oop', 'opencv', 'osx', 'pandas', 'parsing', 'performance', 'php',\n",
       "       'pointers', 'python', 'python-2.7', 'python-3.x', 'qt', 'r',\n",
       "       'regex', 'rest', 'ruby', 'ruby-on-rails', 'ruby-on-rails-3',\n",
       "       'selenium', 'servlets', 'session', 'sockets', 'sorting', 'spring',\n",
       "       'spring-mvc', 'sql', 'sql-server', 'string', 'swift', 'swing',\n",
       "       'twitter-bootstrap', 'uitableview', 'unit-testing', 'validation',\n",
       "       'vb.net', 'visual-studio', 'visual-studio-2010', 'wcf',\n",
       "       'web-services', 'windows', 'winforms', 'wordpress', 'wpf', 'xaml',\n",
       "       'xcode', 'xml'], dtype=object)"
      ]
     },
     "execution_count": 25,
     "metadata": {},
     "output_type": "execute_result"
    }
   ],
   "source": [
    "# olhando as classes\n",
    "mlb.classes_"
   ]
  },
  {
   "cell_type": "markdown",
   "metadata": {},
   "source": [
    "Após treinar o classificador, vamos utilizar também utilizar uma abordagem de **um contra todos** com `OneVsRestClassifier` também do `sklearn`.\n",
    "\n",
    "Nesta abordagem o **k classificadores (= número de tags)** são treinados. Essa estratégia consiste em treinar **um classificador por classe**, para cada classificador, a classe é treinada contra todas as outras. \n",
    "\n",
    "A vantagem disso é pela a interpretabilidade, cada classe é representada um e somente um classificador, sendo possível ganhar conhecimento sobre a classe pelo classificador correspondente. Esta é a **estratégia mais comumente usada para classificação multiclasse**.\n",
    "\n",
    "Depois usaremos a **Regressão Logística** ou `LogisticRegression` do `sklearn`, embora um método mais simples, mas que frequentemente tem um boa performance em tarefas de **classificação de textos**.\n",
    "\n",
    "Vamos criar um função para facilitar nosso treinamento, pois queremos fazer tanto para *bag-of-words* quanto para *tf-idf* e colocaremos alguns dos parâmetros mais importantes desse modelo, assim facilitará caso queiramos tentar melhora-lo posteriormente."
   ]
  },
  {
   "cell_type": "markdown",
   "metadata": {},
   "source": [
    "# Treinando e testando"
   ]
  },
  {
   "cell_type": "markdown",
   "metadata": {},
   "source": [
    "Agora vamos utilizar a Regressão Logística dentro do OneVsRestClassifier para treinar e depois validar o modelo."
   ]
  },
  {
   "cell_type": "code",
   "execution_count": 26,
   "metadata": {},
   "outputs": [],
   "source": [
    "# criando a função\n",
    "def train_classifier(X_train, y_train, C=2.5, penalty='l2'):\n",
    "    \n",
    "    # instanciando a regressão logística\n",
    "    logreg = LogisticRegression(C=C, penalty=penalty, max_iter=2000)\n",
    "\n",
    "    \n",
    "    # intanciando o modelo de um contra todos com a regressão logística\n",
    "    one_vs_rest = OneVsRestClassifier(logreg).fit(X_train, y_train)\n",
    "    \n",
    "    # retornando o instancia do modelo\n",
    "    return one_vs_rest"
   ]
  },
  {
   "cell_type": "markdown",
   "metadata": {},
   "source": [
    "Vamos aplicar a função."
   ]
  },
  {
   "cell_type": "code",
   "execution_count": 27,
   "metadata": {},
   "outputs": [],
   "source": [
    "# treinando um classificador com bow\n",
    "classifier_bow = train_classifier(X_train_bow, y_train)\n",
    "\n",
    "# treinando um classificador com tf-idf\n",
    "classifier_tfidf = train_classifier(X_train_tfidf, y_train)"
   ]
  },
  {
   "cell_type": "markdown",
   "metadata": {},
   "source": [
    "Agora podemos criar as previsões e vamos utilizar agora o conjunto de dados de validação. Utilizaremos dois tipos de previsões: *labels* que são pelas classes e *scores* pela pontuação."
   ]
  },
  {
   "cell_type": "code",
   "execution_count": 28,
   "metadata": {},
   "outputs": [],
   "source": [
    "# realizando as previsões com labels\n",
    "y_val_predicted_labels_bow = classifier_bow.predict(X_val_bow)\n",
    "\n",
    "# realizando as previsões com scores\n",
    "y_val_predicted_scores_bow = classifier_bow.decision_function(X_val_bow)\n",
    "\n",
    "# realizando as previsões com labels\n",
    "y_val_predicted_labels_tfidf = classifier_tfidf.predict(X_val_tfidf)\n",
    "\n",
    "# realizando as previsões com scores\n",
    "y_val_predicted_scores_tfidf = classifier_tfidf.decision_function(X_val_tfidf)"
   ]
  },
  {
   "cell_type": "markdown",
   "metadata": {},
   "source": [
    "Agora veja como um classificador que usa o TF-IDF funciona, alguns exemplos:"
   ]
  },
  {
   "cell_type": "code",
   "execution_count": 29,
   "metadata": {
    "scrolled": false
   },
   "outputs": [
    {
     "name": "stdout",
     "output_type": "stream",
     "text": [
      "Title:\todbc_exec always fail\n",
      "True labels:\tphp,sql\n",
      "Predicted labels:\t\n",
      "\n",
      "\n",
      "Title:\taccess base classes variable within child class\n",
      "True labels:\tjavascript\n",
      "Predicted labels:\t\n",
      "\n",
      "\n",
      "Title:\tcontenttype application json required rails\n",
      "True labels:\truby,ruby-on-rails\n",
      "Predicted labels:\truby-on-rails\n",
      "\n",
      "\n",
      "Title:\tsessions sinatra used pass variable\n",
      "True labels:\truby,session\n",
      "Predicted labels:\t\n",
      "\n",
      "\n",
      "Title:\tgetting error type json exist postgresql rake db migrate\n",
      "True labels:\tjson,ruby,ruby-on-rails\n",
      "Predicted labels:\tjson,ruby-on-rails\n",
      "\n",
      "\n"
     ]
    }
   ],
   "source": [
    "y_val_pred_inversed = mlb.inverse_transform(y_val_predicted_labels_tfidf)\n",
    "y_val_inversed = mlb.inverse_transform(y_val)\n",
    "for i in range(5):\n",
    "    print('Title:\\t{}\\nTrue labels:\\t{}\\nPredicted labels:\\t{}\\n\\n'.format(\n",
    "        X_val[i],\n",
    "        ','.join(y_val_inversed[i]),\n",
    "        ','.join(y_val_pred_inversed[i])\n",
    "    ))"
   ]
  },
  {
   "cell_type": "markdown",
   "metadata": {},
   "source": [
    "## Avaliação"
   ]
  },
  {
   "cell_type": "markdown",
   "metadata": {},
   "source": [
    "Para avaliação do modelo, usaremos algumas métricas de classificação:\n",
    "- Accuracy\n",
    "- F1-score\n",
    "- Area under ROC-curve\n",
    "\n",
    "\n",
    "Resumo dessa métricas:\n",
    "\n",
    "***Accuracy***: é a mais simples das métricas e nos mostra de uma forma geral o quanto o modelo está performando, dividindo o número de acertos (positivos) pelo total dos dados de entrada.\n",
    "\n",
    "***F1-score***: é a média harmônica entre precisão e recall.\n",
    "    - precisão: é a taxa de números positivos divididos pela soma do total de positivos e falso positivos. Ele descreve o quão bom o modelo é, em prever a classe positiva.\n",
    "    - recall: é calculada como a taxa de números de verdadeiros positivos divido pela soma dos verdadeiros positivos e falso negativos. Recall é o mesmo que sensibilidade.\n",
    "\n",
    "***ROC-curve***: é obtido pela divisão dos positivos verdadeiros pelos positivos totais (RPV) versus a divisão dos falsos positivos pelo negativos totais (RPF), para vários valores do limiar de classificação. O RPV é também conhecido como sensibilidade (ou taxa de verdadeiros positivos), e RPF = 1-especificidade ou taxa de falsos positivos. A especificidade é conhecida como taxa de verdadeiros negativos (RVN).\n",
    "\n",
    "Vamos implementar a função *print_evaluation_scores* para calcular e imprimir os resultados da:\n",
    " - *accuracy*\n",
    " - *F1-score*\n",
    " - *Precision*\n",
    "\n",
    "Para as métricas de *F1-score* e *precision* vamos alternar o parâmetro *average* entre *micro/macro/weighted*.\n",
    "- *micro*: calcula métricas globais contando o total de verdadeiros positivos, falso negativos e falso positivos.\n",
    "- *macro*: calcula métricas para cada rótulo (label), e encontra sua média não-ponderada. O desbalanceamento não é levado em consideração.\n",
    "- *weighted*: calcula métricas para cada rótulo, e encontra a média ponderada por suporte (o número de instâncias verdadeiras para cada rótulo). "
   ]
  },
  {
   "cell_type": "code",
   "execution_count": 30,
   "metadata": {},
   "outputs": [],
   "source": [
    "# criando a função para avaliação\n",
    "def print_evaluation_scores(y_val, predicted):\n",
    "    \n",
    "    # calculando a acuracia\n",
    "    print(\"Accuracy score :\",accuracy_score(y_true=y_val,y_pred=predicted))\n",
    "    \n",
    "    # calculando f1 score\n",
    "    print(\"F1 averaged score :\",np.mean(np.array(f1_score(y_true=y_val, y_pred=predicted, average = 'micro'))))\n",
    "    \n",
    "    # calculando a precision score\n",
    "    print(\"Precision score :\",average_precision_score(y_true=y_val, y_score=predicted, average = 'weighted'))"
   ]
  },
  {
   "cell_type": "markdown",
   "metadata": {},
   "source": [
    "Os parâmetros acima, foram os que tiveram melhor resultado."
   ]
  },
  {
   "cell_type": "code",
   "execution_count": 31,
   "metadata": {},
   "outputs": [
    {
     "name": "stdout",
     "output_type": "stream",
     "text": [
      "Bag-of-words\n",
      "---------------------------------------------\n",
      "Accuracy score : 0.3298333333333333\n",
      "F1 averaged score : 0.6517060286212482\n",
      "Precision score : 0.4862752823111001\n",
      "=-=-=-=-=-=-=-=-=-=-=-=-=-=-=-=-=-=-=-=-=-=-=\n",
      "\n",
      "Tfidf\n",
      "---------------------------------------------\n",
      "Accuracy score : 0.35746666666666665\n",
      "F1 averaged score : 0.666300826306736\n",
      "Precision score : 0.506852648478541\n",
      "=-=-=-=-=-=-=-=-=-=-=-=-=-=-=-=-=-=-=-=-=-=-=\n"
     ]
    }
   ],
   "source": [
    "print('Bag-of-words')\n",
    "print('---------------------------------------------')\n",
    "print_evaluation_scores(y_val, y_val_predicted_labels_bow)\n",
    "print('=-=-=-=-=-=-=-=-=-=-=-=-=-=-=-=-=-=-=-=-=-=-=')\n",
    "print('\\nTfidf')\n",
    "print('---------------------------------------------')\n",
    "print_evaluation_scores(y_val, y_val_predicted_labels_tfidf)\n",
    "print('=-=-=-=-=-=-=-=-=-=-=-=-=-=-=-=-=-=-=-=-=-=-=')"
   ]
  },
  {
   "cell_type": "markdown",
   "metadata": {},
   "source": [
    "Vamos também plotar a [Curva ROC](http://scikit-learn.org/stable/modules/model_evaluation.html#receiver-operating-characteristic-roc) para casos de classificação *multi-labels*, que é o nosso caso. Os parâmetros de entrada são:\n",
    "- true labels (rótulos verdadeiros)\n",
    "- decision funcions scores (previsão por scores)\n",
    "- number of classes (número das classes)"
   ]
  },
  {
   "cell_type": "code",
   "execution_count": 32,
   "metadata": {},
   "outputs": [
    {
     "data": {
      "image/png": "[encoded data removed]",
      "text/plain": [
       "<Figure size 432x288 with 1 Axes>"
      ]
     },
     "metadata": {
      "needs_background": "light"
     },
     "output_type": "display_data"
    },
    {
     "data": {
      "image/png": "[encoded data removed]",
      "text/plain": [
       "<Figure size 432x288 with 1 Axes>"
      ]
     },
     "metadata": {
      "needs_background": "light"
     },
     "output_type": "display_data"
    }
   ],
   "source": [
    "# número de classes\n",
    "n_classes = len(tags_counts)\n",
    "\n",
    "# plotanco a curva para bow\n",
    "roc_auc(y_val, y_val_predicted_scores_bow, n_classes)\n",
    "\n",
    "# número de classes\n",
    "n_classes = len(tags_counts)\n",
    "\n",
    "# plotanco a curva para tf-idf\n",
    "roc_auc(y_val, y_val_predicted_scores_tfidf, n_classes)"
   ]
  },
  {
   "cell_type": "markdown",
   "metadata": {},
   "source": [
    "O resultado da curva ROC, quanto mais próximo de 1, melhor. Ela nos mostra, de uma forma simplificada, o quanto nosso classificador é bom em acertar as diferentes classes."
   ]
  },
  {
   "cell_type": "markdown",
   "metadata": {},
   "source": [
    "## Análises das variáveis mais importantes"
   ]
  },
  {
   "cell_type": "markdown",
   "metadata": {},
   "source": [
    "Para finalizar, vamos dar uma olhada nas variáveis que mais influenciam nosso classificador (palavras ou *n-grams*) que são usados com pesos maiores com o classificador da Regressão Logística.\n",
    "\n",
    "Vamos construir nossa função para exibir essas variáveis. Essa função será criada com os seguinte parâmetros:\n",
    "- **classifier**: classificador treinado;\n",
    "- **tag**: tag particular (selecione uma desejada);\n",
    "- **tags_classes**: uma lista de nomes de classes do MultiLabelBinarizer\n",
    "- **index_to_words**: transformação index_to_words\n",
    "- **all_words**: todas as palavras no dicionário"
   ]
  },
  {
   "cell_type": "code",
   "execution_count": 33,
   "metadata": {},
   "outputs": [],
   "source": [
    "def print_words_for_tag(classifier, tag, tags_classes, index_to_words, all_words):\n",
    "\n",
    "    print('Tag:\\t{}'.format(tag))\n",
    "    \n",
    "    # Extract an estimator from the classifier for the given tag.\n",
    "    # Extract feature coefficients from the estimator. \n",
    "    \n",
    "    est = classifier.estimators_[tags_classes.index(tag)]\n",
    "    \n",
    "    top_positive_words = [index_to_words[index] for index in est.coef_.argsort().tolist()[0][-5:]]# top-5 words sorted by the coefficiens.\n",
    "    top_negative_words = [index_to_words[index] for index in est.coef_.argsort().tolist()[0][:5]]# bottom-5 words  sorted by the coefficients.\n",
    "    print('Top positive words:\\t{}'.format(', '.join(top_positive_words)))\n",
    "    print('Top negative words:\\t{}\\n'.format(', '.join(top_negative_words)))"
   ]
  },
  {
   "cell_type": "code",
   "execution_count": 34,
   "metadata": {},
   "outputs": [
    {
     "name": "stdout",
     "output_type": "stream",
     "text": [
      "Tag:\tc\n",
      "Top positive words:\tgcc, printf, scanf, malloc, c\n",
      "Top negative words:\tphp, java, python, javascript, c#\n",
      "\n",
      "Tag:\tc++\n",
      "Top positive words:\tc++11, mfc, boost, qt, c++\n",
      "Top negative words:\tjava, php, python, javascript, c#\n",
      "\n",
      "Tag:\tlinux\n",
      "Top positive words:\tunix, address, signal, ubuntu, linux\n",
      "Top negative words:\tjavascript, c#, jquery, array, method\n",
      "\n"
     ]
    }
   ],
   "source": [
    "# all_words_text = list(words_counts.keys())\n",
    "\n",
    "# print_words_for_tag(classifier_tfidf, 'c', mlb.classes, tfidf_reversed_vocab, all_words_text)\n",
    "# print_words_for_tag(classifier_tfidf, 'c++', mlb.classes, tfidf_reversed_vocab, all_words_text)\n",
    "# print_words_for_tag(classifier_tfidf, 'linux', mlb.classes, tfidf_reversed_vocab, all_words_text)\n",
    "\n",
    "lista_palavras = ['c', 'c++', 'linux']\n",
    "\n",
    "all_words_text = list(words_counts.keys())\n",
    "\n",
    "for w in lista_palavras:\n",
    "    print_words_for_tag(classifier_tfidf, w, mlb.classes, tfidf_reversed_vocab, all_words_text)"
   ]
  },
  {
   "cell_type": "markdown",
   "metadata": {},
   "source": [
    "Podemos observar as top mais, que influenciam tanto positivamente quanto negativamente as nossas classes. Podemos inserir as palavras na lista definida acima antes de rodar a função.\n",
    "\n",
    "E agora só um exemplo de como podemos tunar a regressão logística de forma mais simplificada com a função que foi criada mais acima."
   ]
  },
  {
   "cell_type": "markdown",
   "metadata": {},
   "source": [
    "## Tunando hiperparâmetros"
   ]
  },
  {
   "cell_type": "code",
   "execution_count": 35,
   "metadata": {},
   "outputs": [
    {
     "data": {
      "image/png": "[encoded data removed]",
      "text/plain": [
       "<Figure size 504x360 with 1 Axes>"
      ]
     },
     "metadata": {
      "needs_background": "light"
     },
     "output_type": "display_data"
    }
   ],
   "source": [
    "hypers = np.arange(0.1, 3.0, 0.5)\n",
    "res = []\n",
    "\n",
    "for h in hypers:\n",
    "    temp_model = train_classifier(X_train_tfidf, y_train, C=h)\n",
    "    temp_pred = f1_score(y_val, temp_model.predict(X_val_tfidf), average='weighted')\n",
    "    res.append(temp_pred)\n",
    "\n",
    "plt.figure(figsize=(7,5))\n",
    "plt.plot(hypers, res, color='blue', marker='o')\n",
    "plt.grid(True)\n",
    "plt.xlabel('Parameter $C$')\n",
    "plt.ylabel('Weighted F1 score')\n",
    "plt.show()"
   ]
  },
  {
   "cell_type": "markdown",
   "metadata": {},
   "source": [
    "## Conclusão"
   ]
  },
  {
   "cell_type": "markdown",
   "metadata": {},
   "source": [
    "Neste artigo apresentamos um tutorial passando pelas diversas etapas de como preparar documentos ou textos e aplicar um modelo linear para classificação mult-labels, onde o mais que se encontra são classificações binárias com esse classificador, a proposta era trazer algo diferente relacionado também ao estudo de NLP, e podemos também utilizar outras formas para melhorar ainda mais o resultado do nosso modelo, como tunar o tf-idf e outros parâmetros da Regressão Logística ou até mesmo utilizar outro modelo.\n",
    "\n",
    "Não foram abordados temas como conceitos de tokenização e n-grams que ficará para um próximo projeto, abaixo deixarei as referências utilizadas para realizar este."
   ]
  },
  {
   "cell_type": "markdown",
   "metadata": {},
   "source": [
    "## Referências"
   ]
  },
  {
   "cell_type": "markdown",
   "metadata": {},
   "source": [
    "Processamento de linguagem natural<br>\n",
    "https://bit.ly/31TQkwX\n",
    "\n",
    "Tectudo: Stack Overflow – Conheça o melhor site de perguntas e respostas de programação<br>\n",
    "https://glo.bo/2PSfeHA\n",
    "\n",
    "Multilabel Binarizer<br>\n",
    "https://scikit-learn.org/stable/modules/generated/sklearn.preprocessing.MultiLabelBinarizer.html\n",
    "\n",
    "OneVsRestClassifier<br>\n",
    "http://scikit-learn.org/stable/modules/generated/sklearn.multiclass.OneVsRestClassifier.html)\n",
    "\n",
    "LogisticRegression<br>\n",
    "http://scikit-learn.org/stable/modules/generated/sklearn.linear_model.LogisticRegression.html\n",
    "\n",
    "Count Vectorizer<br>\n",
    "https://scikit-learn.org/stable/modules/generated/sklearn.feature_extraction.text.CountVectorizer.html\n",
    "\n",
    "Feature Extraction (Bag-of-word, tfidf)<br>\n",
    "https://scikit-learn.org/stable/modules/feature_extraction.html\n",
    "\n",
    "ROC Curve<br>\n",
    "https://scikit-learn.org/stable/modules/generated/sklearn.metrics.roc_curve.html\n",
    "\n",
    "NLP Tutorial: MultiLabel Classification Problem using Linear Models<br>\n",
    "https://gdcoder.com/nlp-tutorial-multilabel-claddification-problem-using-linear-models/"
   ]
  }
 ],
 "metadata": {
  "kernelspec": {
   "display_name": "Python 3",
   "language": "python",
   "name": "python3"
  },
  "language_info": {
   "codemirror_mode": {
    "name": "ipython",
    "version": 3
   },
   "file_extension": ".py",
   "mimetype": "text/x-python",
   "name": "python",
   "nbconvert_exporter": "python",
   "pygments_lexer": "ipython3",
   "version": "3.7.6"
  }
 },
 "nbformat": 4,
 "nbformat_minor": 4
}
